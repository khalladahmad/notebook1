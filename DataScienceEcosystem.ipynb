{
 "cells": [
  {
   "cell_type": "markdown",
   "id": "ca0f74fd-a41d-4632-aa20-9b777ce61944",
   "metadata": {},
   "source": [
    "<h1>DATA SCIENCE TOOLS AND ECOSYSTEM </h1>"
   ]
  },
  {
   "cell_type": "markdown",
   "id": "6a7bc511-a995-4770-b4c5-744935e3b159",
   "metadata": {},
   "source": [
    "<h3>In this notebook, Data Science Tools and Ecosystem are summarized.</h3>"
   ]
  },
  {
   "cell_type": "markdown",
   "id": "3f249373-7676-4734-8079-484ca14b22b9",
   "metadata": {},
   "source": [
    "Some of the popular languages that Data Scientists use are:\n",
    "<ol>\n",
    "  <li>Python</li>\n",
    "  <li>MySql</li>\n",
    "  <li>R</li>\n",
    "    <li>Scala</li>\n",
    "</ol>"
   ]
  },
  {
   "cell_type": "markdown",
   "id": "2a9859cd-bfdd-4f3b-bba8-8886a9d19cf2",
   "metadata": {},
   "source": [
    "Some of the commonly used libraries used by Data Scientists include:\n",
    "<ol>\n",
    "  <li>Numpy</li>\n",
    "  <li>Pandas</li>\n",
    "  <li>Matplolib</li>\n",
    "    <li>Scikit Learn</li>\n",
    "  <li>Tensor Flow</li>\n",
    "  <li>Seaborn</li>\n",
    "</ol> "
   ]
  },
  {
   "cell_type": "markdown",
   "id": "c3e3ccd4-bcbf-4f1d-862d-3c5ce5765d76",
   "metadata": {},
   "source": [
    "<table>\n",
    "    <tr>\n",
    "        <th>Data Science Tools</th> \n",
    "    </tr>\n",
    "     <tr>\n",
    "        <td>Apache Spark </td> \n",
    "    </tr>\n",
    "      <tr>\n",
    "        <td>Keras</td> \n",
    "    </tr>\n",
    "      <tr>\n",
    "        <td>Tensor Flow </td> \n",
    "    </tr>\n",
    "    \n",
    "</table>"
   ]
  },
  {
   "cell_type": "markdown",
   "id": "c5ec0c59-bdd9-4e38-8944-f9576afd1063",
   "metadata": {},
   "source": [
    "<h3>Below are a few examples of evaluating arithmetic expressions in Python.</h3>"
   ]
  },
  {
   "cell_type": "code",
   "execution_count": 1,
   "id": "c8f8bc0c-2e0e-42b4-81bb-816ea05727ff",
   "metadata": {},
   "outputs": [
    {
     "data": {
      "text/plain": [
       "17"
      ]
     },
     "execution_count": 1,
     "metadata": {},
     "output_type": "execute_result"
    }
   ],
   "source": [
    "#This a simple arithmetic expression to mutiply then add integers\n",
    "\n",
    "(3*4)+5"
   ]
  },
  {
   "cell_type": "code",
   "execution_count": 3,
   "id": "88694a58-7ae6-4cf1-b729-015602fbbe13",
   "metadata": {},
   "outputs": [
    {
     "name": "stdout",
     "output_type": "stream",
     "text": [
      "hours in 200 min:\n"
     ]
    },
    {
     "data": {
      "text/plain": [
       "3.3333333333333335"
      ]
     },
     "execution_count": 3,
     "metadata": {},
     "output_type": "execute_result"
    }
   ],
   "source": [
    "#This will convert 200 minutes to hours by diving by 60\n",
    "\n",
    "min=200\n",
    "print(\"hours in 200 min:\")\n",
    "min/60\n"
   ]
  },
  {
   "cell_type": "markdown",
   "id": "9d8271af-a33b-4a34-a34d-73f78244be3d",
   "metadata": {},
   "source": [
    "<h2>Objectives:</h2>"
   ]
  },
  {
   "cell_type": "markdown",
   "id": "8c7f62a1-a868-41c4-a1ae-913e65b3b41d",
   "metadata": {},
   "source": [
    "<ul>\n",
    "  <li>List popular programmming languages for Data Science</li>\n",
    "  <li>Tools used in Data Science</li>\n",
    "  <li>python arithematic intro</li>\n",
    "</ul>"
   ]
  }
 ],
 "metadata": {
  "kernelspec": {
   "display_name": "Python 3 (ipykernel)",
   "language": "python",
   "name": "python3"
  },
  "language_info": {
   "codemirror_mode": {
    "name": "ipython",
    "version": 3
   },
   "file_extension": ".py",
   "mimetype": "text/x-python",
   "name": "python",
   "nbconvert_exporter": "python",
   "pygments_lexer": "ipython3",
   "version": "3.12.8"
  }
 },
 "nbformat": 4,
 "nbformat_minor": 5
}
